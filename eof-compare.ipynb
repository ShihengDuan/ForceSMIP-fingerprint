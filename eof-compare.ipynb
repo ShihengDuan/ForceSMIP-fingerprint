{
 "cells": [
  {
   "cell_type": "code",
   "execution_count": null,
   "metadata": {},
   "outputs": [],
   "source": [
    "import numpy as np\n",
    "import seaborn as sns\n",
    "from matplotlib import pyplot as plt\n",
    "import cartopy\n",
    "import pickle\n",
    "import xarray as xr\n",
    "from matplotlib import colors\n",
    "from matplotlib.gridspec import GridSpec\n",
    "import matplotlib as mpl\n",
    "from scipy.stats import pearsonr"
   ]
  },
  {
   "cell_type": "code",
   "execution_count": null,
   "metadata": {},
   "outputs": [],
   "source": [
    "mpl.__version__"
   ]
  },
  {
   "cell_type": "code",
   "execution_count": null,
   "metadata": {},
   "outputs": [],
   "source": [
    "mpl.rc('font', family='DejaVu Serif') \n",
    "# mpl.rc('font', serif='Helvetica Neue') "
   ]
  },
  {
   "cell_type": "code",
   "execution_count": null,
   "metadata": {},
   "outputs": [],
   "source": [
    "months = ['Jan', 'Feb', 'Mar', 'Apr', 'May', 'Jun', 'Jul', 'Aug', 'Sep', 'Oct', 'Nov', 'Dec']"
   ]
  },
  {
   "cell_type": "markdown",
   "metadata": {},
   "source": [
    "# Pr"
   ]
  },
  {
   "cell_type": "code",
   "execution_count": null,
   "metadata": {},
   "outputs": [],
   "source": [
    "variable = 'pr'\n",
    "eof_start = 1979\n",
    "with open('/p/lustre2/shiduan/ForceSMIP/EOF/modes_all/'+str(eof_start)+'_2022/'+variable+'-solver-stand-False-month-True-unforced-False-joint-False', 'rb') as pfile:\n",
    "    solver_list_month = pickle.load(pfile)\n",
    "variable = 'pr'\n",
    "eof_start = 1979\n",
    "with open('/p/lustre2/shiduan/ForceSMIP/EOF/modes_all/'+str(eof_start)+'_2022/'+variable+'-solver-stand-False-month-False-unforced-False-joint-False', 'rb') as pfile:\n",
    "    solver_list = pickle.load(pfile)"
   ]
  },
  {
   "cell_type": "code",
   "execution_count": null,
   "metadata": {},
   "outputs": [],
   "source": [
    "variable = 'pr'\n",
    "eof_start = 1979\n",
    "with open('/p/lustre2/shiduan/ForceSMIP/EOF/modes_all/'+str(eof_start)+'_2022/'+variable+'-solver-stand-True-month-True-unforced-False-joint-False', 'rb') as pfile:\n",
    "    solver_list_month_stand = pickle.load(pfile)\n",
    "with open('/p/lustre2/shiduan/ForceSMIP/EOF/modes_all/'+str(eof_start)+'_2022/'+variable+'-solver-stand-True-month-False-unforced-False-joint-False', 'rb') as pfile:\n",
    "    solver_list_stand = pickle.load(pfile)"
   ]
  },
  {
   "cell_type": "code",
   "execution_count": null,
   "metadata": {},
   "outputs": [],
   "source": [
    "variable = 'pr'\n",
    "eof_start = 1979\n",
    "with open('/p/lustre2/shiduan/ForceSMIP/EOF/modes_all/'+str(eof_start)+'_2022/'+variable+'-solver-stand-True-month-True-unforced-True-joint-False', 'rb') as pfile:\n",
    "    solver_list_month_unforced = pickle.load(pfile)\n",
    "with open('/p/lustre2/shiduan/ForceSMIP/EOF/modes_all/'+str(eof_start)+'_2022/'+variable+'-solver-stand-True-month-False-unforced-True-joint-False', 'rb') as pfile:\n",
    "    solver_list_unforced = pickle.load(pfile)"
   ]
  },
  {
   "cell_type": "code",
   "execution_count": null,
   "metadata": {},
   "outputs": [],
   "source": [
    "with open('/p/lustre2/shiduan/ForceSMIP/EOF/modes_all/1979_2022/MSWEP/pr-metrics-stand-False-month-False-unforced-False-joint-False', 'rb') as pfile:\n",
    "    metrics_mswep = pickle.load(pfile)\n",
    "mswep_pc = metrics_mswep['obs_pc']\n",
    "with open('/p/lustre2/shiduan/ForceSMIP/EOF/modes_all/1979_2022/GPCP/pr-metrics-stand-False-month-False-unforced-False-joint-False', 'rb') as pfile:\n",
    "    metrics_gpcp = pickle.load(pfile)\n",
    "gpcp_pc = metrics_gpcp['obs_pc']\n",
    "pc1 = metrics_gpcp['pc']\n",
    "pc2 = metrics_mswep['pc']"
   ]
  },
  {
   "cell_type": "code",
   "execution_count": null,
   "metadata": {},
   "outputs": [],
   "source": [
    "with open('/p/lustre2/shiduan/ForceSMIP/EOF/modes_all/1979_2022/MSWEP/pr-metrics-stand-False-month-True-unforced-False-joint-False', 'rb') as pfile:\n",
    "    metrics_mswep_month = pickle.load(pfile)\n",
    "mswep_pc_month = metrics_mswep_month['obs_pc']\n",
    "with open('/p/lustre2/shiduan/ForceSMIP/EOF/modes_all/1979_2022/GPCP/pr-metrics-stand-False-month-True-unforced-False-joint-False', 'rb') as pfile:\n",
    "    metrics_gpcp_month = pickle.load(pfile)\n",
    "gpcp_pc_month = metrics_gpcp_month['obs_pc']\n",
    "pc1_month = metrics_gpcp_month['pc']\n",
    "pc2_month = metrics_mswep_month['pc']"
   ]
  },
  {
   "cell_type": "code",
   "execution_count": null,
   "metadata": {},
   "outputs": [],
   "source": [
    "with open('/p/lustre2/shiduan/ForceSMIP/EOF/modes_all/1979_2022/GPCP/pr-metrics-stand-True-month-True-unforced-False-joint-False', 'rb') as pfile:\n",
    "    metrics_gpcp_month_stand = pickle.load(pfile)\n",
    "pc1_month_stand = metrics_gpcp_month_stand['pc']\n",
    "with open('/p/lustre2/shiduan/ForceSMIP/EOF/modes_all/1979_2022/GPCP/pr-metrics-stand-True-month-False-unforced-False-joint-False', 'rb') as pfile:\n",
    "    metrics_gpcp_stand = pickle.load(pfile)\n",
    "pc1_stand = metrics_gpcp_stand['pc']\n",
    "with open('/p/lustre2/shiduan/ForceSMIP/EOF/modes_all/1979_2022/GPCP/pr-metrics-stand-True-month-False-unforced-True-joint-False', 'rb') as pfile:\n",
    "    metrics_gpcp_unforced = pickle.load(pfile)\n",
    "pc1_unforced = metrics_gpcp_unforced['pc']\n",
    "with open('/p/lustre2/shiduan/ForceSMIP/EOF/modes_all/1979_2022/GPCP/pr-metrics-stand-True-month-True-unforced-True-joint-False', 'rb') as pfile:\n",
    "    metrics_gpcp_month_unforced = pickle.load(pfile)\n",
    "pc1_month_unforced = metrics_gpcp_month_unforced['pc']"
   ]
  },
  {
   "cell_type": "code",
   "execution_count": null,
   "metadata": {},
   "outputs": [],
   "source": [
    "pc1.time.data[0]"
   ]
  },
  {
   "cell_type": "code",
   "execution_count": null,
   "metadata": {},
   "outputs": [],
   "source": [
    "pc1_month.time.data[0]\n",
    "pc1_time = pc1_month.indexes['time'].to_datetimeindex()"
   ]
  },
  {
   "cell_type": "code",
   "execution_count": null,
   "metadata": {},
   "outputs": [],
   "source": [
    "def plot_eofs(solver_list_month, solver_list, column, fig, gs, norm, cmap='BrBG'):\n",
    "    eof_all = None\n",
    "    for i in range(6):\n",
    "        eof = solver_list_month[i].eofs().isel(mode=0).transpose('lat', 'lon')\n",
    "        variance = str(solver_list_month[i].varianceFraction().data[0].round(2))\n",
    "        ax = fig.add_subplot(gs[i, column], projection=cartopy.crs.Robinson(central_longitude=180))\n",
    "        ax.contourf(eof.lon, eof.lat, eof, transform=cartopy.crs.PlateCarree(), cmap=cmap, norm=norm)\n",
    "        ax.set_title(months[i]+' '+variance, \n",
    "                    fontsize=12)\n",
    "        ax.add_feature(cartopy.feature.COASTLINE, alpha=.5)\n",
    "        if eof_all is None:\n",
    "            eof_all = eof.data\n",
    "        else:\n",
    "            eof_all+=eof.data\n",
    "    for i in range(6, 12):\n",
    "        eof = solver_list_month[i].eofs().isel(mode=0).transpose('lat', 'lon')\n",
    "        variance = str(solver_list_month[i].varianceFraction().data[0].round(2))\n",
    "        ax = fig.add_subplot(gs[11-i, column+1], projection=cartopy.crs.Robinson(central_longitude=180))\n",
    "        ax.contourf(eof.lon, eof.lat, eof, transform=cartopy.crs.PlateCarree(), cmap=cmap, norm=norm)\n",
    "        ax.set_title(months[i]+' '+variance, \n",
    "                    fontsize=12)\n",
    "        ax.add_feature(cartopy.feature.COASTLINE, alpha=.5)\n",
    "        if eof_all is None:\n",
    "            eof_all = eof.data\n",
    "        else:\n",
    "            eof_all+=eof.data\n",
    "    ax = fig.add_subplot(gs[6, column:column+2], projection=cartopy.crs.Robinson(central_longitude=180))\n",
    "    ax.add_feature(cartopy.feature.COASTLINE, alpha=.5)\n",
    "    ax.contourf(eof.lon, eof.lat, eof_all/12, transform=cartopy.crs.PlateCarree(), cmap=cmap, norm=norm)\n",
    "    ax.set_title('Mean EOF')\n",
    "\n",
    "    ax = fig.add_subplot(gs[7, column:column+2], projection=cartopy.crs.Robinson(central_longitude=180))\n",
    "    eof = solver_list[0].eofs().isel(mode=0).transpose('lat', 'lon')\n",
    "    variance = str(solver_list[0].varianceFraction().data[0].round(2))\n",
    "    ax.contourf(eof.lon, eof.lat, eof, transform=cartopy.crs.PlateCarree(), cmap=cmap, norm=norm)\n",
    "    ax.add_feature(cartopy.feature.COASTLINE, alpha=.5)\n",
    "    ax.set_title('AllM '+variance)"
   ]
  },
  {
   "cell_type": "code",
   "execution_count": null,
   "metadata": {},
   "outputs": [],
   "source": [
    "sns_colors = sns.color_palette('muted', 3)\n",
    "sns_colors"
   ]
  },
  {
   "cell_type": "code",
   "execution_count": null,
   "metadata": {},
   "outputs": [],
   "source": [
    "pc1.plot()\n",
    "pc1_stand.plot()"
   ]
  },
  {
   "cell_type": "code",
   "execution_count": null,
   "metadata": {},
   "outputs": [],
   "source": [
    "ax = plt.axes()\n",
    "ax.plot(pc1_time, pc1, label='Anomaly', color=sns_colors[0])\n",
    "ax.plot(pc1_time, pc1_month, label='Anomaly-MbyM', color=sns_colors[0], linestyle='-.')\n",
    "ax.plot(pc1_time, pc1_stand, label='StdAnomaly', color=sns_colors[1])\n",
    "# ax.plot(pc1_time, pc1_month_stand, label='StdAnomaly-MbyM', color=sns_colors[1], linestyle='-.')\n",
    "# ax.plot(pc1_time, pc1_unforced, label='UnforceAnomaly', color=sns_colors[2])\n",
    "# ax.plot(pc1_time, pc1_month_unforced, label='UnforceAnomaly-MbyM', color=sns_colors[2], linestyle='-.')\n",
    "plt.legend(ncol=3, bbox_to_anchor=(1.05, -.2))"
   ]
  },
  {
   "cell_type": "code",
   "execution_count": null,
   "metadata": {},
   "outputs": [],
   "source": [
    "vmin = -0.08\n",
    "vmax = 0.08\n",
    "norm = colors.TwoSlopeNorm(vmin=vmin, vcenter=0, vmax=vmax)\n",
    "fig = plt.figure(figsize=(14, 14))\n",
    "gs = GridSpec(9, 8, figure=fig, width_ratios=[1, 1, 0.2, 1, 1, 0.2, 1, 1])\n",
    "ind = 0\n",
    "plot_eofs(column=0, solver_list_month=solver_list_month, solver_list=solver_list, norm=norm, gs=gs, fig=fig)\n",
    "plot_eofs(column=3, solver_list_month=solver_list_month_stand, solver_list=solver_list_stand, norm=norm, gs=gs, fig=fig)\n",
    "plot_eofs(column=6, solver_list_month=solver_list_month_unforced, solver_list=solver_list_unforced, norm=norm, gs=gs, fig=fig)\n",
    "\n",
    "plt.tight_layout()\n",
    "plt.subplots_adjust(wspace=0, hspace=0.2)\n",
    "ax = fig.add_subplot(gs[8, 2:6])\n",
    "ax.plot(pc1_time, pc1, label='AllM Anomaly', color=sns_colors[0])\n",
    "ax.plot(pc1_time, pc1_month, label='MbyM Anomaly', color=sns_colors[0], linestyle='-.')\n",
    "ax.plot(pc1_time, pc1_stand, label='AllM StdAnomaly', color=sns_colors[1])\n",
    "ax.plot(pc1_time, pc1_month_stand, label='MbyM StdAnomaly', color=sns_colors[1], linestyle='-.')\n",
    "ax.plot(pc1_time, pc1_unforced, label='AllM UnforcedAnomaly', color=sns_colors[2])\n",
    "ax.plot(pc1_time, pc1_month_unforced, label='MbyM UnforcedAnomaly', color=sns_colors[2], linestyle='-.')\n",
    "plt.legend(ncol=3, bbox_to_anchor=(1.05, -.2))\n",
    "fig.text(x=0.13, y=1., s='Anomaly', fontsize=14, weight='bold')\n",
    "fig.text(x=0.46, y=1., s='StdAnomaly', fontsize=14, weight='bold')\n",
    "fig.text(x=0.78, y=1., s='UnforcedAnomaly', fontsize=14, weight='bold')\n",
    "cbar_ax = fig.add_axes([0.04, 0.15, 0.01, 0.15])\n",
    "cb = fig.colorbar(mappable=mpl.cm.ScalarMappable(norm=norm, cmap='BrBG'), cax=cbar_ax, extend='both')\n",
    "cbar_ax.yaxis.set_ticks_position('left')\n",
    "plt.savefig('pr-EOF-pc.png', dpi=180, bbox_inches='tight')"
   ]
  },
  {
   "cell_type": "markdown",
   "metadata": {},
   "source": [
    "# SST"
   ]
  },
  {
   "cell_type": "code",
   "execution_count": null,
   "metadata": {},
   "outputs": [],
   "source": [
    "variable = 'tos'\n",
    "eof_start = 1950\n",
    "with open('/p/lustre2/shiduan/ForceSMIP/EOF/modes_all/'+str(eof_start)+'_2022/'+variable+'-solver-stand-False-month-True-unforced-False-joint-False', 'rb') as pfile:\n",
    "    solver_list_month = pickle.load(pfile)\n",
    "with open('/p/lustre2/shiduan/ForceSMIP/EOF/modes_all/'+str(eof_start)+'_2022/'+variable+'-solver-stand-False-month-False-unforced-False-joint-False', 'rb') as pfile:\n",
    "    solver_list = pickle.load(pfile)"
   ]
  },
  {
   "cell_type": "code",
   "execution_count": null,
   "metadata": {},
   "outputs": [],
   "source": [
    "variable = 'tos'\n",
    "eof_start = 1950\n",
    "with open('/p/lustre2/shiduan/ForceSMIP/EOF/modes_all/'+str(eof_start)+'_2022/'+variable+'-solver-stand-True-month-True-unforced-False-joint-False', 'rb') as pfile:\n",
    "    solver_list_month_stand = pickle.load(pfile)\n",
    "with open('/p/lustre2/shiduan/ForceSMIP/EOF/modes_all/'+str(eof_start)+'_2022/'+variable+'-solver-stand-True-month-False-unforced-False-joint-False', 'rb') as pfile:\n",
    "    solver_list_stand = pickle.load(pfile)\n",
    "with open('/p/lustre2/shiduan/ForceSMIP/EOF/modes_all/'+str(eof_start)+'_2022/'+variable+'-solver-stand-True-month-True-unforced-True-joint-False', 'rb') as pfile:\n",
    "    solver_list_month_unforced = pickle.load(pfile)\n",
    "with open('/p/lustre2/shiduan/ForceSMIP/EOF/modes_all/'+str(eof_start)+'_2022/'+variable+'-solver-stand-True-month-False-unforced-True-joint-False', 'rb') as pfile:\n",
    "    solver_list_unforced = pickle.load(pfile)"
   ]
  },
  {
   "cell_type": "code",
   "execution_count": null,
   "metadata": {},
   "outputs": [],
   "source": [
    "with open('/p/lustre2/shiduan/ForceSMIP/EOF/modes_all/1950_2022/ERSST/tos-metrics-stand-False-month-False-unforced-False-joint-False', 'rb') as pfile:\n",
    "    metrics_ersst = pickle.load(pfile)\n",
    "pc1 = metrics_ersst['pc']\n",
    "with open('/p/lustre2/shiduan/ForceSMIP/EOF/modes_all/1950_2022/ERSST/tos-metrics-stand-False-month-True-unforced-False-joint-False', 'rb') as pfile:\n",
    "    metrics_ersst_month = pickle.load(pfile)\n",
    "pc1_month = metrics_ersst_month['pc']\n",
    "with open('/p/lustre2/shiduan/ForceSMIP/EOF/modes_all/1950_2022/ERSST/tos-metrics-stand-True-month-True-unforced-False-joint-False', 'rb') as pfile:\n",
    "    metrics_ersst_month_stand = pickle.load(pfile)\n",
    "pc1_month_stand = metrics_ersst_month_stand['pc']\n",
    "with open('/p/lustre2/shiduan/ForceSMIP/EOF/modes_all/1950_2022/ERSST/tos-metrics-stand-True-month-False-unforced-False-joint-False', 'rb') as pfile:\n",
    "    metrics_ersst_stand = pickle.load(pfile)\n",
    "pc1_stand = metrics_ersst_stand['pc']\n",
    "with open('/p/lustre2/shiduan/ForceSMIP/EOF/modes_all/1950_2022/ERSST/tos-metrics-stand-True-month-False-unforced-True-joint-False', 'rb') as pfile:\n",
    "    metrics_ersst_unforced = pickle.load(pfile)\n",
    "pc1_unforced = metrics_ersst_unforced['pc']\n",
    "with open('/p/lustre2/shiduan/ForceSMIP/EOF/modes_all/1950_2022/ERSST/tos-metrics-stand-True-month-True-unforced-True-joint-False', 'rb') as pfile:\n",
    "    metrics_ersst_month_unforced = pickle.load(pfile)\n",
    "pc1_month_unforced = metrics_ersst_month_unforced['pc']"
   ]
  },
  {
   "cell_type": "code",
   "execution_count": null,
   "metadata": {},
   "outputs": [],
   "source": [
    "pc1_month.time.data[0]\n",
    "pc1_time = pc1_month.indexes['time'].to_datetimeindex()\n",
    "sns_colors = sns.color_palette('muted', 3)\n",
    "sns_colors"
   ]
  },
  {
   "cell_type": "code",
   "execution_count": null,
   "metadata": {},
   "outputs": [],
   "source": [
    "solver_list_unforced[0].eofs().isel(mode=0).plot()"
   ]
  },
  {
   "cell_type": "code",
   "execution_count": null,
   "metadata": {},
   "outputs": [],
   "source": [
    "vmin = -0.03\n",
    "vmax = 0.03\n",
    "norm = colors.TwoSlopeNorm(vmin=vmin, vcenter=0, vmax=vmax)\n",
    "fig = plt.figure(figsize=(14, 14))\n",
    "gs = GridSpec(9, 8, figure=fig, width_ratios=[1, 1, 0.2, 1, 1, 0.2, 1, 1])\n",
    "ind = 0\n",
    "plot_eofs(column=0, solver_list_month=solver_list_month, solver_list=solver_list, norm=norm, gs=gs, fig=fig, cmap='coolwarm')\n",
    "plot_eofs(column=3, solver_list_month=solver_list_month_stand, solver_list=solver_list_stand, norm=norm, gs=gs, fig=fig, cmap='coolwarm')\n",
    "plot_eofs(column=6, solver_list_month=solver_list_month_unforced, solver_list=solver_list_unforced, norm=norm, gs=gs, fig=fig, cmap='coolwarm')\n",
    "\n",
    "plt.tight_layout()\n",
    "plt.subplots_adjust(wspace=0, hspace=0.2)\n",
    "ax = fig.add_subplot(gs[8, 2:6])\n",
    "ax.plot(pc1_time, pc1, label='AllM Anomaly', color=sns_colors[0])\n",
    "ax.plot(pc1_time, pc1_month, label='MbyM Anomaly', color=sns_colors[0], linestyle='-.')\n",
    "ax.plot(pc1_time, pc1_stand, label='AllM StdAnomaly', color=sns_colors[1])\n",
    "ax.plot(pc1_time, pc1_month_stand, label='MbyM StdAnomaly', color=sns_colors[1], linestyle='-.')\n",
    "ax.plot(pc1_time, pc1_unforced, label='AllM UnforcedAnomaly', color=sns_colors[2])\n",
    "ax.plot(pc1_time, pc1_month_unforced, label='MbyM UnforcedAnomaly', color=sns_colors[2], linestyle='-.')\n",
    "plt.legend(ncol=3, bbox_to_anchor=(1.05, -.2))\n",
    "fig.text(x=0.13, y=1., s='Anomaly', fontsize=14, weight='bold')\n",
    "fig.text(x=0.46, y=1., s='StdAnomaly', fontsize=14, weight='bold')\n",
    "fig.text(x=0.78, y=1., s='UnforcedAnomaly', fontsize=14, weight='bold')\n",
    "cbar_ax = fig.add_axes([0.04, 0.15, 0.01, 0.15])\n",
    "cb = fig.colorbar(mappable=mpl.cm.ScalarMappable(norm=norm, cmap='coolwarm'), cax=cbar_ax, extend='both')\n",
    "cbar_ax.yaxis.set_ticks_position('left')\n",
    "plt.savefig('tos-EOF-pc.png', dpi=180, bbox_inches='tight')"
   ]
  },
  {
   "cell_type": "markdown",
   "metadata": {},
   "source": [
    "# Monmaxpr"
   ]
  },
  {
   "cell_type": "code",
   "execution_count": null,
   "metadata": {},
   "outputs": [],
   "source": [
    "variable = 'monmaxpr'\n",
    "eof_start = 1979\n",
    "with open('/p/lustre2/shiduan/ForceSMIP/EOF/modes_all/'+str(eof_start)+'_2022/'+variable+'-solver-stand-False-month-True-unforced-False-joint-False', 'rb') as pfile:\n",
    "    solver_list_month = pickle.load(pfile)\n",
    "with open('/p/lustre2/shiduan/ForceSMIP/EOF/modes_all/'+str(eof_start)+'_2022/'+variable+'-solver-stand-False-month-False-unforced-False-joint-False', 'rb') as pfile:\n",
    "    solver_list = pickle.load(pfile)\n",
    "\n",
    "with open('/p/lustre2/shiduan/ForceSMIP/EOF/modes_all/'+str(eof_start)+'_2022/'+variable+'-solver-stand-True-month-True-unforced-False-joint-False', 'rb') as pfile:\n",
    "    solver_list_month_stand = pickle.load(pfile)\n",
    "with open('/p/lustre2/shiduan/ForceSMIP/EOF/modes_all/'+str(eof_start)+'_2022/'+variable+'-solver-stand-True-month-False-unforced-False-joint-False', 'rb') as pfile:\n",
    "    solver_list_stand = pickle.load(pfile)\n",
    "with open('/p/lustre2/shiduan/ForceSMIP/EOF/modes_all/'+str(eof_start)+'_2022/'+variable+'-solver-stand-True-month-True-unforced-True-joint-False', 'rb') as pfile:\n",
    "    solver_list_month_unforced = pickle.load(pfile)\n",
    "with open('/p/lustre2/shiduan/ForceSMIP/EOF/modes_all/'+str(eof_start)+'_2022/'+variable+'-solver-stand-True-month-False-unforced-True-joint-False', 'rb') as pfile:\n",
    "    solver_list_unforced = pickle.load(pfile)"
   ]
  },
  {
   "cell_type": "code",
   "execution_count": null,
   "metadata": {},
   "outputs": [],
   "source": [
    "with open('/p/lustre2/shiduan/ForceSMIP/EOF/modes_all/1979_2022/MSWEP/monmaxpr-metrics-stand-False-month-False-unforced-False-joint-False', 'rb') as pfile:\n",
    "    metric = pickle.load(pfile)\n",
    "pc1 = metric['pc']\n",
    "with open('/p/lustre2/shiduan/ForceSMIP/EOF/modes_all/1979_2022/MSWEP/monmaxpr-metrics-stand-False-month-True-unforced-False-joint-False', 'rb') as pfile:\n",
    "    metric = pickle.load(pfile)\n",
    "pc1_month = metric['pc']\n",
    "with open('/p/lustre2/shiduan/ForceSMIP/EOF/modes_all/1979_2022/MSWEP/monmaxpr-metrics-stand-True-month-True-unforced-False-joint-False', 'rb') as pfile:\n",
    "    metric = pickle.load(pfile)\n",
    "pc1_month_stand = metric['pc']\n",
    "with open('/p/lustre2/shiduan/ForceSMIP/EOF/modes_all/1979_2022/MSWEP/monmaxpr-metrics-stand-True-month-False-unforced-False-joint-False', 'rb') as pfile:\n",
    "    metric = pickle.load(pfile)\n",
    "pc1_stand = metric['pc']\n",
    "with open('/p/lustre2/shiduan/ForceSMIP/EOF/modes_all/1979_2022/MSWEP/monmaxpr-metrics-stand-True-month-False-unforced-True-joint-False', 'rb') as pfile:\n",
    "    metric = pickle.load(pfile)\n",
    "pc1_unforced = metric['pc']\n",
    "with open('/p/lustre2/shiduan/ForceSMIP/EOF/modes_all/1979_2022/MSWEP/monmaxpr-metrics-stand-True-month-True-unforced-True-joint-False', 'rb') as pfile:\n",
    "    metric = pickle.load(pfile)\n",
    "pc1_month_unforced = metric['pc']"
   ]
  },
  {
   "cell_type": "code",
   "execution_count": null,
   "metadata": {},
   "outputs": [],
   "source": [
    "pc1_month.time.data[0]\n",
    "pc1_time = pc1_month.indexes['time'].to_datetimeindex()\n",
    "sns_colors = sns.color_palette('muted', 3)\n",
    "sns_colors"
   ]
  },
  {
   "cell_type": "code",
   "execution_count": null,
   "metadata": {},
   "outputs": [],
   "source": [
    "solver_list_unforced[0].eofs().isel(mode=0).plot()"
   ]
  },
  {
   "cell_type": "code",
   "execution_count": null,
   "metadata": {},
   "outputs": [],
   "source": [
    "vmin = -0.055\n",
    "vmax = 0.055\n",
    "norm = colors.TwoSlopeNorm(vmin=vmin, vcenter=0, vmax=vmax)\n",
    "fig = plt.figure(figsize=(14, 14))\n",
    "gs = GridSpec(9, 8, figure=fig, width_ratios=[1, 1, 0.2, 1, 1, 0.2, 1, 1])\n",
    "ind = 0\n",
    "plot_eofs(column=0, solver_list_month=solver_list_month, solver_list=solver_list, norm=norm, gs=gs, fig=fig, cmap='BrBG')\n",
    "plot_eofs(column=3, solver_list_month=solver_list_month_stand, solver_list=solver_list_stand, norm=norm, gs=gs, fig=fig, cmap='BrBG')\n",
    "plot_eofs(column=6, solver_list_month=solver_list_month_unforced, solver_list=solver_list_unforced, norm=norm, gs=gs, fig=fig, cmap='BrBG')\n",
    "\n",
    "plt.tight_layout()\n",
    "plt.subplots_adjust(wspace=0, hspace=0.2)\n",
    "ax = fig.add_subplot(gs[8, 2:6])\n",
    "ax.plot(pc1_time, pc1, label='AllM Anomaly', color=sns_colors[0])\n",
    "ax.plot(pc1_time, pc1_month, label='MbyM Anomaly', color=sns_colors[0], linestyle='-.')\n",
    "ax.plot(pc1_time, pc1_stand, label='AllM StdAnomaly', color=sns_colors[1])\n",
    "ax.plot(pc1_time, pc1_month_stand, label='MbyM StdAnomaly', color=sns_colors[1], linestyle='-.')\n",
    "ax.plot(pc1_time, pc1_unforced, label='AllM UnforcedAnomaly', color=sns_colors[2])\n",
    "ax.plot(pc1_time, pc1_month_unforced, label='MbyM UnforcedAnomaly', color=sns_colors[2], linestyle='-.')\n",
    "plt.legend(ncol=3, bbox_to_anchor=(1.05, -.2))\n",
    "fig.text(x=0.13, y=1., s='Anomaly', fontsize=14, weight='bold')\n",
    "fig.text(x=0.46, y=1., s='StdAnomaly', fontsize=14, weight='bold')\n",
    "fig.text(x=0.78, y=1., s='UnforcedAnomaly', fontsize=14, weight='bold')\n",
    "cbar_ax = fig.add_axes([0.04, 0.15, 0.01, 0.15])\n",
    "cb = fig.colorbar(mappable=mpl.cm.ScalarMappable(norm=norm, cmap='BrBG'), cax=cbar_ax, extend='both')\n",
    "cbar_ax.yaxis.set_ticks_position('left')\n",
    "plt.savefig('monmaxpr-EOF-pc.png', dpi=180, bbox_inches='tight')"
   ]
  },
  {
   "cell_type": "code",
   "execution_count": null,
   "metadata": {},
   "outputs": [],
   "source": []
  }
 ],
 "metadata": {
  "language_info": {
   "name": "python"
  }
 },
 "nbformat": 4,
 "nbformat_minor": 2
}
