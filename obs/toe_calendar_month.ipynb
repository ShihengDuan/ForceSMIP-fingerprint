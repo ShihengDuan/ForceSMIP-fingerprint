{
 "cells": [
  {
   "cell_type": "code",
   "execution_count": null,
   "id": "7d7a024e",
   "metadata": {},
   "outputs": [],
   "source": [
    "import numpy as np\n",
    "import pandas as pd\n",
    "import matplotlib as mpl\n",
    "from matplotlib import pyplot as plt\n",
    "from matplotlib import colors\n",
    "import xarray as xa\n",
    "import pickle\n",
    "import seaborn as sns\n",
    "mpl.rc('font', family='DejaVu Serif') "
   ]
  },
  {
   "cell_type": "code",
   "execution_count": null,
   "id": "e759fd58",
   "metadata": {},
   "outputs": [],
   "source": [
    "with open('/p/lustre2/shiduan/ForceSMIP/EOF/modes_all/1979_2022/MSWEP/pr-metrics-stand-False-month-True-unforced-False-joint-False-calendar_month-1', 'rb') as pfile:\n",
    "    metrics_mswep_month = pickle.load(pfile)\n",
    "print(metrics_mswep_month.keys())\n",
    "\n",
    "n_list_month = metrics_mswep_month['n_list']\n",
    "\n",
    "with open('/p/lustre2/shiduan/ForceSMIP/EOF/modes_all/1979_2022/MSWEP/pr-metrics-stand-True-month-True-unforced-False-joint-False-calendar_month-1', 'rb') as pfile:\n",
    "    metrics_mswep_month_stand = pickle.load(pfile)\n",
    "print(len(metrics_mswep_month_stand['n_list']))\n",
    "# n_list_month = metrics_mswep_month['n_list']"
   ]
  },
  {
   "cell_type": "code",
   "execution_count": null,
   "id": "588ed74a",
   "metadata": {},
   "outputs": [],
   "source": [
    "with open('/p/lustre2/shiduan/ForceSMIP/EOF/modes_all/1979_2022/MSWEP/pr-metrics-stand-True-month-True-unforced-False-joint-False', 'rb') as pfile:\n",
    "    metrics_mswep_month_stand_monthly = pickle.load(pfile)"
   ]
  },
  {
   "cell_type": "code",
   "execution_count": null,
   "id": "119645d3",
   "metadata": {},
   "outputs": [],
   "source": [
    "with open('/p/lustre2/shiduan/ForceSMIP/EOF/modes_all/1979_2022/GPCP/pr-metrics-stand-True-month-True-unforced-False-joint-False', 'rb') as pfile:\n",
    "    metrics_GPCP_month_stand_monthly = pickle.load(pfile)"
   ]
  },
  {
   "cell_type": "code",
   "execution_count": null,
   "id": "2e47b911",
   "metadata": {},
   "outputs": [],
   "source": [
    "metrics_mswep_month_stand.keys()"
   ]
  },
  {
   "cell_type": "code",
   "execution_count": null,
   "id": "215d7036",
   "metadata": {},
   "outputs": [],
   "source": [
    "with open('/p/lustre2/shiduan/ForceSMIP/EOF/modes_all/1979_2022/MSWEP/pr-metrics-stand-True-month-True-unforced-False-joint-False-calendar_month-1', 'rb') as pfile:\n",
    "    metrics_mswep_month_stand = pickle.load(pfile)\n",
    "# plt.plot(metrics_mswep_month_stand['s_list'], color='blue', label='Jun signal')\n",
    "plt.plot(metrics_mswep_month_stand['s_obs_list'], color='black', label='obs signal')\n",
    "plt.plot(metrics_mswep_month_stand['n_list'], color='red')\n",
    "# plt.show()\n",
    "# plt.plot(np.array(metrics_mswep_month_stand_monthly['s_list'])[5::12]*12, linestyle='--', color='blue', label='Jun concat signal')\n",
    "plt.plot(np.array(metrics_mswep_month_stand_monthly['s_obs_list'])[0::12]*12, linestyle='--', color='black', label='obs concat signal')\n",
    "plt.plot(np.array(metrics_mswep_month_stand_monthly['n_list'])[0::12]*12, linestyle='--', color='red')\n",
    "plt.legend()\n",
    "plt.ylim([-0.2, 0.4])\n",
    "plt.show()"
   ]
  },
  {
   "cell_type": "code",
   "execution_count": null,
   "id": "9e6a9d9e",
   "metadata": {},
   "outputs": [],
   "source": [
    "with open('/p/lustre2/shiduan/ForceSMIP/EOF/modes_all/1979_2022/GPCP/pr-metrics-stand-True-month-True-unforced-False-joint-False-calendar_month-6', 'rb') as pfile:\n",
    "    metrics_GPCP_month_stand = pickle.load(pfile)\n",
    "# plt.plot(metrics_GPCP_month_stand['s_list'], color='blue', label='Jun signal')\n",
    "plt.plot(metrics_GPCP_month_stand['s_obs_list'], color='black', label='obs signal')\n",
    "plt.plot(metrics_GPCP_month_stand['n_list'], color='red')\n",
    "# plt.show()\n",
    "# plt.plot(np.array(metrics_GPCP_month_stand_monthly['s_list'])[5::12]*12, linestyle='--', color='blue', label='Jun concat signal')\n",
    "plt.plot(np.array(metrics_GPCP_month_stand_monthly['s_obs_list'])[5::12]*12, linestyle='--', color='black', label='obs concat signal')\n",
    "plt.plot(np.array(metrics_GPCP_month_stand_monthly['n_list'])[5::12]*12, linestyle='--', color='red')\n",
    "plt.legend()\n",
    "plt.ylim([-0.2, 0.4])\n",
    "plt.show()"
   ]
  },
  {
   "cell_type": "code",
   "execution_count": null,
   "id": "7f019183",
   "metadata": {},
   "outputs": [],
   "source": [
    "plt.plot(np.array(metrics_mswep_month_stand_monthly['s_list'])[:]*12, linestyle='--', color='blue', label='Jun concat signal')\n",
    "plt.plot(np.array(metrics_mswep_month_stand_monthly['n_list'])[:]*12, linestyle='--', color='red')\n",
    "plt.legend()\n",
    "plt.show()"
   ]
  },
  {
   "cell_type": "code",
   "execution_count": null,
   "id": "404234de",
   "metadata": {},
   "outputs": [],
   "source": [
    "for i in range(1, 13):\n",
    "    with open('/p/lustre2/shiduan/ForceSMIP/EOF/modes_all/1979_2022/MSWEP/pr-metrics-stand-False-month-True-unforced-False-joint-False-calendar_month-'+str(i), 'rb') as pfile:\n",
    "        metrics_mswep_month = pickle.load(pfile)\n",
    "    plt.plot(metrics_mswep_month['sn'])\n",
    "    print(i, metrics_mswep_month['sn'][-1])"
   ]
  },
  {
   "cell_type": "code",
   "execution_count": null,
   "id": "823da6a4",
   "metadata": {},
   "outputs": [],
   "source": [
    "for i in range(1, 13):\n",
    "    with open('/p/lustre2/shiduan/ForceSMIP/EOF/modes_all/1979_2022/MSWEP/pr-metrics-stand-True-month-True-unforced-False-joint-False-calendar_month-'+str(i), 'rb') as pfile:\n",
    "        metrics_mswep_month_stand = pickle.load(pfile)\n",
    "    plt.plot(metrics_mswep_month_stand['sn_obs'])\n",
    "    print(i, metrics_mswep_month_stand['sn_obs'][-1])"
   ]
  },
  {
   "cell_type": "code",
   "execution_count": null,
   "id": "faedaead",
   "metadata": {},
   "outputs": [],
   "source": [
    "for i in range(1, 13):\n",
    "    with open('/p/lustre2/shiduan/ForceSMIP/EOF/modes_all/1979_2022/GPCP/pr-metrics-stand-True-month-True-unforced-False-joint-False-calendar_month-'+str(i), 'rb') as pfile:\n",
    "        metrics_gpcp_month_stand = pickle.load(pfile)\n",
    "    plt.plot(metrics_gpcp_month_stand['sn_obs'])\n",
    "    print(i, metrics_gpcp_month_stand['sn_obs'][-1])"
   ]
  },
  {
   "cell_type": "code",
   "execution_count": null,
   "id": "e007f686",
   "metadata": {},
   "outputs": [],
   "source": [
    "i = 10\n",
    "with open('/p/lustre2/shiduan/ForceSMIP/EOF/modes_all/1979_2022/GPCP/pr-metrics-stand-True-month-True-unforced-False-joint-False-calendar_month-'+str(i), 'rb') as pfile:\n",
    "    metrics_gpcp_month_stand = pickle.load(pfile)\n",
    "with open('/p/lustre2/shiduan/ForceSMIP/EOF/modes_all/1979_2022/MSWEP/pr-metrics-stand-True-month-True-unforced-False-joint-False-calendar_month-'+str(i), 'rb') as pfile:\n",
    "    metrics_mswep_month_stand = pickle.load(pfile)"
   ]
  },
  {
   "cell_type": "code",
   "execution_count": null,
   "id": "3095784e",
   "metadata": {},
   "outputs": [],
   "source": [
    "metrics_gpcp_month_stand.keys()"
   ]
  },
  {
   "cell_type": "code",
   "execution_count": null,
   "id": "ac7be0c7",
   "metadata": {},
   "outputs": [],
   "source": [
    "plt.plot(metrics_gpcp_month_stand['sn_obs'])\n",
    "plt.plot(metrics_mswep_month_stand['sn_obs'])\n",
    "plt.hlines(xmin=0, xmax=32, y=2)"
   ]
  },
  {
   "cell_type": "code",
   "execution_count": null,
   "id": "50f87c49",
   "metadata": {},
   "outputs": [],
   "source": [
    "fig = plt.figure(figsize=(10, 6))\n",
    "for i in range(1, 13):\n",
    "    ax = fig.add_subplot(3, 4, i)\n",
    "    with open('/p/lustre2/shiduan/ForceSMIP/EOF/modes_all/1979_2022/GPCP/pr-metrics-stand-False-month-True-unforced-False-joint-False-calendar_month-'+str(i), 'rb') as pfile:\n",
    "        metrics_gpcp_month = pickle.load(pfile)\n",
    "    with open('/p/lustre2/shiduan/ForceSMIP/EOF/modes_all/1979_2022/MSWEP/pr-metrics-stand-False-month-True-unforced-False-joint-False-calendar_month-'+str(i), 'rb') as pfile:\n",
    "        metrics_mswep_month = pickle.load(pfile)\n",
    "    ax.axhline(2)\n",
    "    ax.plot(metrics_mswep_month['sn_obs'], color='red')\n",
    "    ax.plot(metrics_gpcp_month['sn_obs'], color='blue')\n",
    "    ax.set_title('Month: '+ str(i))\n",
    "plt.tight_layout()\n",
    "plt.show()"
   ]
  },
  {
   "cell_type": "code",
   "execution_count": null,
   "id": "815e2522",
   "metadata": {},
   "outputs": [],
   "source": []
  },
  {
   "cell_type": "code",
   "execution_count": null,
   "id": "a060e36a",
   "metadata": {},
   "outputs": [],
   "source": [
    "fig = plt.figure(figsize=(10, 6))\n",
    "for i in range(1, 13):\n",
    "    ax = fig.add_subplot(3, 4, i)\n",
    "    with open('/p/lustre2/shiduan/ForceSMIP/EOF/modes_all/1979_2022/GPCP/pr-metrics-stand-True-month-True-unforced-False-joint-False-calendar_month-'+str(i), 'rb') as pfile:\n",
    "        metrics_gpcp_month_stand = pickle.load(pfile)\n",
    "    with open('/p/lustre2/shiduan/ForceSMIP/EOF/modes_all/1979_2022/MSWEP/pr-metrics-stand-True-month-True-unforced-False-joint-False-calendar_month-'+str(i), 'rb') as pfile:\n",
    "        metrics_mswep_month_stand = pickle.load(pfile)\n",
    "    ax.axhline(2)\n",
    "    ax.plot(metrics_mswep_month_stand['sn_obs'], color='red')\n",
    "    ax.plot(metrics_gpcp_month_stand['sn_obs'], color='blue')\n",
    "    ax.plot(metrics_gpcp_month_stand['sn'], color='black')\n",
    "    ax.set_title('Month: '+ str(i))\n",
    "plt.tight_layout()\n",
    "plt.show()"
   ]
  },
  {
   "cell_type": "code",
   "execution_count": null,
   "id": "a5ba3267",
   "metadata": {},
   "outputs": [],
   "source": [
    "with open('/p/lustre2/shiduan/ForceSMIP/EOF/modes_all/1979_2022/pr-CMIP-metrics-stand-True-month-True-unforced-False-joint-False-calendar_month-1', 'rb') as pfile:\n",
    "    results_cmip_month_stand = pickle.load(pfile)"
   ]
  },
  {
   "cell_type": "code",
   "execution_count": null,
   "id": "6a162139",
   "metadata": {},
   "outputs": [],
   "source": [
    "print(results_cmip_month_stand.keys())\n",
    "print(results_cmip_month_stand['model_results'].keys())"
   ]
  },
  {
   "cell_type": "code",
   "execution_count": null,
   "id": "4ae47036",
   "metadata": {},
   "outputs": [],
   "source": [
    "time = results_cmip_month_stand['model_results'][0]['sn'].time\n",
    "print(time)"
   ]
  },
  {
   "cell_type": "code",
   "execution_count": null,
   "id": "6ee05714",
   "metadata": {},
   "outputs": [],
   "source": [
    "def get_detection_obs(metrics):\n",
    "    upper = np.array(metrics['s_obs_list'])+np.array(metrics['obs_se'])\n",
    "    lower = np.array(metrics['s_obs_list'])-np.array(metrics['obs_se'])\n",
    "    center = np.array(metrics['s_obs_list'])\n",
    "    upper = upper/np.array(metrics['n_list'])\n",
    "    lower = lower/np.array(metrics['n_list'])\n",
    "    center = center/np.array(metrics['n_list'])\n",
    "    upper = xa.DataArray(upper, dims=['time'], coords={'time': time})\n",
    "    lower = xa.DataArray(lower, dims=['time'], coords={'time': time})\n",
    "    center = xa.DataArray(center, dims=['time'], coords={'time': time})\n",
    "\n",
    "    upper = upper.reindex(time=list(reversed(upper.time)))\n",
    "    lower = lower.reindex(time=list(reversed(lower.time)))\n",
    "    center = center.reindex(time=list(reversed(center.time)))\n",
    "\n",
    "    indices = (upper < 2)\n",
    "    first_indices = (indices.argmax(dim='time'))\n",
    "    whole_period = upper.time.shape[0]\n",
    "    back = whole_period-first_indices\n",
    "    if back<whole_period:\n",
    "        detect_time_upper = back\n",
    "    else:\n",
    "        detect_time_upper = None\n",
    "    \n",
    "    indices = (lower < 2)\n",
    "    first_indices = (indices.argmax(dim='time'))\n",
    "    whole_period = lower.time.shape[0]\n",
    "    back = whole_period-first_indices\n",
    "    if back<whole_period:\n",
    "        detect_time_lower = back\n",
    "    else:\n",
    "        detect_time_lower = None\n",
    "\n",
    "    indices = (center < 2)\n",
    "    first_indices = (indices.argmax(dim='time'))\n",
    "    whole_period = center.time.shape[0]\n",
    "    back = whole_period-first_indices\n",
    "    if back<whole_period:\n",
    "        detect_time_center = back\n",
    "    else:\n",
    "        detect_time_center = None\n",
    "    return detect_time_lower, detect_time_center, detect_time_upper"
   ]
  },
  {
   "cell_type": "code",
   "execution_count": null,
   "id": "1c708052",
   "metadata": {},
   "outputs": [],
   "source": [
    "total_ensembles = [50, 25, 30, 50, 30]\n",
    "months = ['Jan', 'Feb', 'Mar', \n",
    "          'Apr', 'May', 'Jun',\n",
    "          'Jul', 'Aug', 'Sep', \n",
    "          'Oct', 'Nov', 'Dec']\n",
    "colors = sns.color_palette('deep', 7)\n",
    "mswep_color = colors[-2]\n",
    "gpcp_color = colors[-1]\n",
    "fig, axes = plt.subplots(figsize=(12, 7), sharex=True, sharey=True, nrows=3, ncols=4)\n",
    "medians = []\n",
    "for i in range(1, 13):\n",
    "    month_medians = []\n",
    "    ax = axes.flatten()[i-1]\n",
    "    with open('/p/lustre2/shiduan/ForceSMIP/EOF/modes_all/1979_2022/pr-CMIP-metrics-stand-True-month-True-unforced-False-joint-False-calendar_month-'+str(i), 'rb') as pfile:\n",
    "        results_cmip_month_stand = pickle.load(pfile)\n",
    "    detect_time_month_stand = []\n",
    "    for m in range(5):\n",
    "        data = results_cmip_month_stand['model_results'][m]['sn']\n",
    "        data = data.reindex(time=list(reversed(data.time)))\n",
    "        indices = (data < 2)\n",
    "        first_indices = (indices.argmax(dim='time'))\n",
    "        whole_period = data.time.shape[0]\n",
    "        back = whole_period-first_indices\n",
    "        back = back[back<whole_period]\n",
    "        # detect_time_month_stand.append(back)\n",
    "        \n",
    "        member = len(back)\n",
    "        # print(member)\n",
    "        back_list = list(back)\n",
    "        back_full = back_list.copy()\n",
    "        # append length to 30 with maximum values\n",
    "        while len(back_full)<total_ensembles[m]:\n",
    "            back_full.append(np.nan)\n",
    "        back_full = np.array(back_full)\n",
    "        event_observed = ~np.isnan(back_full)  # True = detected, False = censored\n",
    "        event_observed = event_observed.astype(int)\n",
    "        order = np.argsort(back_full)\n",
    "        detection_times = back_full[order]\n",
    "        event_observed = event_observed[order]\n",
    "        n = len(detection_times)\n",
    "        survival = 1.0\n",
    "        detected_frac = [0.0]\n",
    "        times = [0]\n",
    "        at_risk = n\n",
    "        for ind in range(n):\n",
    "            t = detection_times[ind]\n",
    "            if event_observed[ind] == 1:\n",
    "                survival *= (at_risk - 1) / at_risk\n",
    "            frac_detected = 1 - survival\n",
    "            detected_frac.append(frac_detected)\n",
    "            times.append(t)\n",
    "            at_risk -= 1\n",
    "        ax.step(times, detected_frac, where='post', label='K-M (Detection)')\n",
    "        flag = 0\n",
    "        for k in range(1, len(detected_frac)):\n",
    "            if detected_frac[k] >= 0.5:\n",
    "                median_time = times[k]\n",
    "                # print('Median detection time:', median_time, k)\n",
    "                # ax.axvline(x=median_time, linestyle='--', linewidth=1)\n",
    "                ax.annotate(\n",
    "                '▲',  # 三角形符号\n",
    "                xy=(median_time, 0), \n",
    "                xytext=(median_time, 0.01), \n",
    "                ha='center', va='top',\n",
    "                fontsize=10,\n",
    "                annotation_clip=False,\n",
    "                color=colors[m], \n",
    "            )\n",
    "                flag=1\n",
    "                break\n",
    "        if flag:\n",
    "            month_medians.append(median_time)\n",
    "        else:\n",
    "            month_medians.append(np.inf)\n",
    "        # observations:\n",
    "        with open('/p/lustre2/shiduan/ForceSMIP/EOF/modes_all/1979_2022/GPCP/pr-metrics-stand-True-month-True-unforced-False-joint-False-calendar_month-'+str(i), 'rb') as pfile:\n",
    "            metrics_gpcp_month_stand = pickle.load(pfile)\n",
    "        with open('/p/lustre2/shiduan/ForceSMIP/EOF/modes_all/1979_2022/MSWEP/pr-metrics-stand-True-month-True-unforced-False-joint-False-calendar_month-'+str(i), 'rb') as pfile:\n",
    "            metrics_mswep_month_stand = pickle.load(pfile)\n",
    "        detect_time_lower, detect_time_center, detect_time_upper = get_detection_obs(metrics=metrics_gpcp_month_stand)\n",
    "        if (detect_time_lower is not None) and (detect_time_center is not None) and (detect_time_upper is not None):\n",
    "            # if cmip_label:\n",
    "                # ax.axvline(x=detect_time_center, ymin=0, ymax=1, color=gpcp_color, linewidth=2, label='GPCP')\n",
    "            # else:\n",
    "            ax.axvline(x=detect_time_center, ymin=0, ymax=1, color=gpcp_color, linewidth=2)\n",
    "            # ax.axvspan(detect_time_lower, detect_time_upper, alpha=0.2, color=gpcp_color)\n",
    "            print(detect_time_center.data)\n",
    "            # print('GPCP ', start_month+np.timedelta64(int(detect_time_center.data),'M'))\n",
    "        elif detect_time_center is not None:\n",
    "            ax.axvline(x=detect_time_center, ymin=0, ymax=1, color=gpcp_color, linewidth=2)\n",
    "\n",
    "        detect_time_lower, detect_time_center, detect_time_upper = get_detection_obs(metrics=metrics_mswep_month_stand)\n",
    "        if (detect_time_lower is not None) and (detect_time_center is not None) and (detect_time_upper is not None):\n",
    "            # if cmip_label:\n",
    "                # ax.axvline(x=detect_time_center, ymin=0, ymax=1, color=gpcp_color, linewidth=2, label='GPCP')\n",
    "            # else:\n",
    "            ax.axvline(x=detect_time_center, ymin=0, ymax=1, color=mswep_color, linewidth=2)\n",
    "            # ax.axvspan(detect_time_lower, detect_time_upper, alpha=0.2, color=mswep_color)\n",
    "            print(detect_time_center.data)\n",
    "            # print('GPCP ', start_month+np.timedelta64(int(detect_time_center.data),'M'))\n",
    "        elif detect_time_center is not None:\n",
    "            ax.axvline(x=detect_time_center, ymin=0, ymax=1, color=mswep_color, linewidth=2)\n",
    "        ax.set_title(months[i-1])\n",
    "    medians.append(month_medians)\n",
    "plt.tight_layout()\n",
    "plt.show()"
   ]
  },
  {
   "cell_type": "code",
   "execution_count": null,
   "id": "29c07e03",
   "metadata": {},
   "outputs": [],
   "source": [
    "mswep_color\n",
    "colors"
   ]
  },
  {
   "cell_type": "code",
   "execution_count": null,
   "id": "229d74f4",
   "metadata": {},
   "outputs": [],
   "source": [
    "print(len(medians))\n",
    "print(len(medians[0]))"
   ]
  },
  {
   "cell_type": "code",
   "execution_count": null,
   "id": "742b078a",
   "metadata": {},
   "outputs": [],
   "source": [
    "for i in range(1, 13):\n",
    "    month_medians = medians[i-1]\n",
    "    plt.scatter(np.ones(5)*i, month_medians, color='tab:blue')\n",
    "    plt.scatter(i, np.median(month_medians), marker='*', s=150, alpha=.5, color='red')"
   ]
  },
  {
   "cell_type": "code",
   "execution_count": null,
   "id": "4b8f8b15",
   "metadata": {},
   "outputs": [],
   "source": [
    "np.median([np.inf, 1, 2, 3])"
   ]
  },
  {
   "cell_type": "markdown",
   "id": "8d1df76a",
   "metadata": {},
   "source": [
    "# Signal and Noise"
   ]
  },
  {
   "cell_type": "markdown",
   "id": "bf397846",
   "metadata": {},
   "source": [
    "monthly from 1984-01    \n",
    "each month, yearly from 1988?"
   ]
  },
  {
   "cell_type": "code",
   "execution_count": null,
   "id": "d3234780",
   "metadata": {},
   "outputs": [],
   "source": [
    "with open('/p/lustre2/shiduan/ForceSMIP/EOF/modes_all/1979_2022/GPCP/pr-metrics-stand-True-month-True-unforced-False-joint-False-calendar_month-6', 'rb') as pfile:\n",
    "    metrics_GPCP_month_stand = pickle.load(pfile)\n",
    "plt.plot(metrics_GPCP_month_stand['s_list'], color='blue', label='Jun signal')\n",
    "plt.plot(metrics_GPCP_month_stand['n_list'], color='red')\n",
    "concat = (np.array(metrics_GPCP_month_stand_monthly['s_list'])[5::12]*12)[4:]\n",
    "plt.plot(concat, linestyle='--', color='blue', label='Jun concat signal')\n",
    "concat = (np.array(metrics_GPCP_month_stand_monthly['n_list'])[5::12]*12)[4:]\n",
    "plt.plot(concat, linestyle='--', color='red')\n",
    "plt.legend()\n",
    "plt.ylim([-0.2, 0.4])\n",
    "plt.show()"
   ]
  },
  {
   "cell_type": "code",
   "execution_count": null,
   "id": "3eb77d02",
   "metadata": {},
   "outputs": [],
   "source": [
    "months = ['Jan', 'Feb', 'Mar', \n",
    "          'Apr', 'May', 'Jun',\n",
    "          'Jul', 'Aug', 'Sep', \n",
    "          'Oct', 'Nov', 'Dec']\n",
    "colors = sns.color_palette('deep', 7)\n",
    "mswep_color = colors[-2]\n",
    "gpcp_color = colors[-1]\n",
    "fig, axes = plt.subplots(figsize=(12, 7), sharex=True, sharey=True, nrows=3, ncols=4)\n",
    "x = np.arange(1988, 1988+33)\n",
    "for i in range(1, 13):\n",
    "    ax = axes.flatten()[i-1]\n",
    "    with open('/p/lustre2/shiduan/ForceSMIP/EOF/modes_all/1979_2022/GPCP/pr-metrics-stand-True-month-True-unforced-False-joint-False-calendar_month-'+str(i), 'rb') as pfile:\n",
    "        metrics_GPCP_month_stand = pickle.load(pfile)\n",
    "    ax.plot(x, metrics_GPCP_month_stand['s_list'], color='tab:blue', label='signal')\n",
    "    ax.plot(x, metrics_GPCP_month_stand['n_list'], color='tab:red')\n",
    "    concat = (np.array(metrics_GPCP_month_stand_monthly['s_list'])[i-1::12]*12)[4:]\n",
    "    ax.plot(x, concat, linestyle='--', color='tab:blue', label='concat signal')\n",
    "    concat = (np.array(metrics_GPCP_month_stand_monthly['n_list'])[i-1::12]*12)[4:]\n",
    "    ax.plot(x, concat, linestyle='--', color='tab:red')\n",
    "    # ax.legend()\n",
    "    ax.set_ylim([-0.1, 0.3])\n",
    "    ax.set_title(months[i-1])\n",
    "    ax2 = ax.twinx()\n",
    "    snr1 = np.array(metrics_GPCP_month_stand['s_list'])/np.array(metrics_GPCP_month_stand['n_list'])\n",
    "    ax2.plot(x, snr1, color='black', alpha=.5)\n",
    "    ax2.set_ylim([-0.5, 4.2])\n",
    "    ax2.set_yticks([0, 2, 4])\n",
    "    detect = np.where(snr1>2)[0][0]\n",
    "    print(i, detect)\n",
    "    ax2.axvline(x=1988+detect, ymin=0, ymax=1, color='black', alpha=.2)\n",
    "\n",
    "    snr2 = (np.array(metrics_GPCP_month_stand_monthly['s_list'])[i-1::12]*12)[4:]/(np.array(metrics_GPCP_month_stand_monthly['n_list'])[i-1::12]*12)[4:]\n",
    "    ax2.plot(x, snr2, color='black', linestyle='--', alpha=.5)\n",
    "    detect = np.where(snr2>2)[0][0]\n",
    "    print(detect, snr2[detect])\n",
    "    ax2.axvline(x=1988+detect, ymin=0, ymax=1, linestyle='--', color='black', alpha=.2)\n",
    "plt.tight_layout()"
   ]
  },
  {
   "cell_type": "code",
   "execution_count": null,
   "id": "dd9c3a8d",
   "metadata": {},
   "outputs": [],
   "source": [
    "detect+1988"
   ]
  },
  {
   "cell_type": "code",
   "execution_count": null,
   "id": "27b38af4",
   "metadata": {},
   "outputs": [],
   "source": [
    "print(snr2[10])\n",
    "print(snr2[11])"
   ]
  },
  {
   "cell_type": "code",
   "execution_count": null,
   "id": "3802507a",
   "metadata": {},
   "outputs": [],
   "source": []
  }
 ],
 "metadata": {
  "language_info": {
   "name": "python"
  }
 },
 "nbformat": 4,
 "nbformat_minor": 5
}
