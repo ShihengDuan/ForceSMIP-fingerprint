{
 "cells": [
  {
   "cell_type": "code",
   "execution_count": null,
   "metadata": {},
   "outputs": [],
   "source": [
    "import pickle\n",
    "import xarray as xa\n",
    "from scipy.stats import pearsonr\n",
    "import numpy as np\n",
    "from matplotlib import pyplot as plt\n",
    "import matplotlib as mpl\n",
    "mpl.rc('font', family='DejaVu Serif') \n",
    "# mpl.rc('font', serif='Helvetica Neue') "
   ]
  },
  {
   "cell_type": "code",
   "execution_count": null,
   "metadata": {},
   "outputs": [],
   "source": [
    "with open('/p/lustre2/shiduan/ForceSMIP/EOF/modes_all/1979_2022/MSWEP/pr-metrics-stand-False-month-True-unforced-False-joint-False', 'rb') as pfile:\n",
    "    metrics_mswep_month = pickle.load(pfile)\n",
    "with open('/p/lustre2/shiduan/ForceSMIP/EOF/modes_all/1979_2022/MSWEP/pr-metrics-stand-False-month-False-unforced-False-joint-False', 'rb') as pfile:\n",
    "    metrics_mswep = pickle.load(pfile)"
   ]
  },
  {
   "cell_type": "code",
   "execution_count": null,
   "metadata": {},
   "outputs": [],
   "source": [
    "with open('/p/lustre2/shiduan/ForceSMIP/EOF/modes_all/1979_2022/GPCP/pr-metrics-stand-False-month-True-unforced-False-joint-False', 'rb') as pfile:\n",
    "    metrics_gpcp_month = pickle.load(pfile)\n",
    "with open('/p/lustre2/shiduan/ForceSMIP/EOF/modes_all/1979_2022/GPCP/pr-metrics-stand-False-month-False-unforced-False-joint-False', 'rb') as pfile:\n",
    "    metrics_gpcp = pickle.load(pfile)"
   ]
  },
  {
   "cell_type": "code",
   "execution_count": null,
   "metadata": {},
   "outputs": [],
   "source": [
    "pcmdi = xa.open_dataset('/p/lustre3/shiduan/sst/PCMDI/tos_input4MIPs_SSTsAndSeaIce_CMIP_PCMDI-AMIP-1-1-8_gn_195001-202112_2p5x2p5_masked.nc')\n",
    "pcmdi = pcmdi[\"tos\"]\n",
    "pcmdi = pcmdi.sel(time=slice('1983-01-01', '2020-12-31'))"
   ]
  },
  {
   "cell_type": "code",
   "execution_count": null,
   "metadata": {},
   "outputs": [],
   "source": [
    "tos_nino34 = pcmdi.sel(lat=slice(-5, 5), lon=slice(190, 240))\n",
    "tos_nino34['time'] = metrics_mswep['obs_pc']['time']"
   ]
  },
  {
   "cell_type": "code",
   "execution_count": null,
   "metadata": {},
   "outputs": [],
   "source": [
    "gb = tos_nino34.groupby('time.month')\n",
    "tos_nino34_anom = gb - gb.mean(dim='time')\n",
    "index_nino34 = tos_nino34_anom.mean(dim=['lat', 'lon'])"
   ]
  },
  {
   "cell_type": "code",
   "execution_count": null,
   "metadata": {},
   "outputs": [],
   "source": [
    "(-index_nino34).plot()\n",
    "metrics_mswep['obs_pc'].plot(label='MSWEP-AllM')\n",
    "metrics_mswep_month['obs_pc'].plot(label='MSWEP-MbyM')\n",
    "metrics_gpcp['obs_pc'].plot(label='GPCP-AllM')\n",
    "metrics_gpcp_month['obs_pc'].plot(label='GPCP-MbyM')\n",
    "plt.legend()\n",
    "print(pearsonr(index_nino34, metrics_mswep['obs_pc']))\n",
    "print(pearsonr(index_nino34, metrics_mswep_month['obs_pc']))\n",
    "print(pearsonr(index_nino34, metrics_gpcp['obs_pc']))\n",
    "print(pearsonr(index_nino34, metrics_gpcp_month['obs_pc']))"
   ]
  },
  {
   "cell_type": "code",
   "execution_count": null,
   "metadata": {},
   "outputs": [],
   "source": [
    "from matplotlib.gridspec import GridSpec"
   ]
  },
  {
   "cell_type": "code",
   "execution_count": null,
   "metadata": {},
   "outputs": [],
   "source": [
    "fig = plt.figure(figsize=(9, 6))\n",
    "grid = GridSpec(ncols=2, nrows=2, figure=fig)\n",
    "# ax = fig.add_subplot(121)\n",
    "ax = fig.add_subplot(grid[0, 0])\n",
    "r, p = pearsonr(index_nino34, metrics_mswep['obs_pc'])\n",
    "ax.scatter(index_nino34, metrics_mswep['obs_pc'], marker='o',  \n",
    "           color='red', label='AllM r='+str(round(r, 2)))\n",
    "r, p = pearsonr(index_nino34, metrics_mswep_month['obs_pc'])\n",
    "ax.scatter(index_nino34, metrics_mswep_month['obs_pc'], marker='o', facecolor='none', \n",
    "           edgecolor='black', label='MbyM r='+str(round(r, 2)))\n",
    "ax.legend()\n",
    "ax.set_xlabel('Niño 3.4 Index')\n",
    "ax.set_title('MSWEP')\n",
    "# ax = fig.add_subplot(122)\n",
    "ax = fig.add_subplot(grid[0, 1])\n",
    "r, p = pearsonr(index_nino34, metrics_gpcp['obs_pc'])\n",
    "ax.scatter(index_nino34, metrics_gpcp['obs_pc'], marker='s', \n",
    "           color='red', label='AllM r='+str(round(r, 2)))\n",
    "r, p = pearsonr(index_nino34, metrics_gpcp_month['obs_pc'])\n",
    "ax.scatter(index_nino34, metrics_gpcp_month['obs_pc'], marker='s', facecolor='none', \n",
    "           edgecolor='black', label='MbyM r='+str(round(r, 2)))\n",
    "ax.legend()\n",
    "ax.set_xlabel('Niño 3.4 Index')\n",
    "ax.set_title('GPCP')\n",
    "ax = fig.add_subplot(grid[1, :])\n",
    "ax.plot(np.arange(456), metrics_gpcp['obs_pc'], label='GPCP')\n",
    "ax.plot(np.arange(456), metrics_mswep['obs_pc'], label='MSWEP')\n",
    "ax.plot(np.arange(456), -index_nino34, color='black', linewidth=2, label='Niño 3.4 (reversed)')\n",
    "ax.set_xticks(np.arange(10, 456, 100))\n",
    "time = metrics_gpcp['obs_pc'].time.data\n",
    "label = [str(time[i])[:7] for i in range(10, 456, 100)]\n",
    "ax.set_xticklabels(label)\n",
    "ax.legend()\n",
    "fig.supylabel('Pseudo-PC', x=0, y=.7)\n",
    "plt.tight_layout()\n",
    "plt.savefig('enso-pr.png', dpi=180, bbox_inches='tight')\n",
    "plt.show()"
   ]
  },
  {
   "cell_type": "code",
   "execution_count": null,
   "metadata": {},
   "outputs": [],
   "source": []
  }
 ],
 "metadata": {
  "language_info": {
   "name": "python"
  }
 },
 "nbformat": 4,
 "nbformat_minor": 2
}
