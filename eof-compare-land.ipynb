{
 "cells": [
  {
   "cell_type": "code",
   "execution_count": null,
   "metadata": {},
   "outputs": [],
   "source": [
    "import numpy as np\n",
    "import seaborn as sns\n",
    "from matplotlib import pyplot as plt\n",
    "import cartopy\n",
    "import pickle\n",
    "import xarray as xr\n",
    "from matplotlib import colors\n",
    "from matplotlib.gridspec import GridSpec, GridSpecFromSubplotSpec\n",
    "import matplotlib as mpl\n",
    "from scipy.stats import pearsonr"
   ]
  },
  {
   "cell_type": "code",
   "execution_count": null,
   "metadata": {},
   "outputs": [],
   "source": [
    "mpl.__version__"
   ]
  },
  {
   "cell_type": "code",
   "execution_count": null,
   "metadata": {},
   "outputs": [],
   "source": [
    "mpl.rc('font', family='DejaVu Serif') \n",
    "# mpl.rc('font', serif='Helvetica Neue') "
   ]
  },
  {
   "cell_type": "code",
   "execution_count": null,
   "metadata": {},
   "outputs": [],
   "source": [
    "months = ['Jan', 'Feb', 'Mar', 'Apr', 'May', 'Jun', 'Jul', 'Aug', 'Sep', 'Oct', 'Nov', 'Dec']"
   ]
  },
  {
   "cell_type": "markdown",
   "metadata": {},
   "source": [
    "# Pr"
   ]
  },
  {
   "cell_type": "code",
   "execution_count": null,
   "metadata": {},
   "outputs": [],
   "source": [
    "variable = 'pr'\n",
    "eof_start = 1979\n",
    "with open('/p/lustre2/shiduan/ForceSMIP/EOF/modes_all/'+str(eof_start)+'_2022/'+variable+'-solver-stand-False-month-True-unforced-False-joint-False-REGEN-mask', 'rb') as pfile:\n",
    "    solver_list_month = pickle.load(pfile)\n",
    "variable = 'pr'\n",
    "eof_start = 1979\n",
    "with open('/p/lustre2/shiduan/ForceSMIP/EOF/modes_all/'+str(eof_start)+'_2022/'+variable+'-solver-stand-False-month-False-unforced-False-joint-False-REGEN-mask', 'rb') as pfile:\n",
    "    solver_list = pickle.load(pfile)"
   ]
  },
  {
   "cell_type": "code",
   "execution_count": null,
   "metadata": {},
   "outputs": [],
   "source": [
    "solver_list[0].pcs().isel(mode=0).plot()\n",
    "plt.show()\n",
    "eof = solver_list[0].eofs().isel(mode=0)\n",
    "eof = eof.transpose('lat', 'lon')\n",
    "eof.plot()"
   ]
  },
  {
   "cell_type": "code",
   "execution_count": null,
   "metadata": {},
   "outputs": [],
   "source": [
    "variable = 'pr'\n",
    "eof_start = 1979\n",
    "with open('/p/lustre2/shiduan/ForceSMIP/EOF/modes_all/'+str(eof_start)+'_2022/'+variable+'-solver-stand-True-month-True-unforced-False-joint-False-REGEN-mask', 'rb') as pfile:\n",
    "    solver_list_month_stand = pickle.load(pfile)\n",
    "with open('/p/lustre2/shiduan/ForceSMIP/EOF/modes_all/'+str(eof_start)+'_2022/'+variable+'-solver-stand-True-month-False-unforced-False-joint-False-REGEN-mask', 'rb') as pfile:\n",
    "    solver_list_stand = pickle.load(pfile)"
   ]
  },
  {
   "cell_type": "code",
   "execution_count": null,
   "metadata": {},
   "outputs": [],
   "source": [
    "variable = 'pr'\n",
    "eof_start = 1979\n",
    "with open('/p/lustre2/shiduan/ForceSMIP/EOF/modes_all/'+str(eof_start)+'_2022/'+variable+'-solver-stand-True-month-True-unforced-True-joint-False-REGEN-mask', 'rb') as pfile:\n",
    "    solver_list_month_unforced = pickle.load(pfile)\n",
    "with open('/p/lustre2/shiduan/ForceSMIP/EOF/modes_all/'+str(eof_start)+'_2022/'+variable+'-solver-stand-True-month-False-unforced-True-joint-False-REGEN-mask', 'rb') as pfile:\n",
    "    solver_list_unforced = pickle.load(pfile)"
   ]
  },
  {
   "cell_type": "code",
   "execution_count": null,
   "metadata": {},
   "outputs": [],
   "source": [
    "with open('/p/lustre2/shiduan/ForceSMIP/EOF/modes_all/1979_2022/MSWEP/pr-metrics-stand-False-month-False-unforced-False-joint-False-REGEN-mask', 'rb') as pfile:\n",
    "    metrics_mswep = pickle.load(pfile)\n",
    "mswep_pc = metrics_mswep['obs_pc']\n",
    "with open('/p/lustre2/shiduan/ForceSMIP/EOF/modes_all/1979_2022/GPCP/pr-metrics-stand-False-month-False-unforced-False-joint-False-REGEN-mask', 'rb') as pfile:\n",
    "    metrics_gpcp = pickle.load(pfile)\n",
    "gpcp_pc = metrics_gpcp['obs_pc']\n",
    "pc1 = metrics_gpcp['pc']\n",
    "pc2 = metrics_mswep['pc']"
   ]
  },
  {
   "cell_type": "code",
   "execution_count": null,
   "metadata": {},
   "outputs": [],
   "source": [
    "with open('/p/lustre2/shiduan/ForceSMIP/EOF/modes_all/1979_2022/MSWEP/pr-metrics-stand-False-month-True-unforced-False-joint-False-REGEN-mask', 'rb') as pfile:\n",
    "    metrics_mswep_month = pickle.load(pfile)\n",
    "mswep_pc_month = metrics_mswep_month['obs_pc']\n",
    "with open('/p/lustre2/shiduan/ForceSMIP/EOF/modes_all/1979_2022/GPCP/pr-metrics-stand-False-month-True-unforced-False-joint-False-REGEN-mask', 'rb') as pfile:\n",
    "    metrics_gpcp_month = pickle.load(pfile)\n",
    "gpcp_pc_month = metrics_gpcp_month['obs_pc']\n",
    "pc1_month = metrics_gpcp_month['pc']\n",
    "pc2_month = metrics_mswep_month['pc']"
   ]
  },
  {
   "cell_type": "code",
   "execution_count": null,
   "metadata": {},
   "outputs": [],
   "source": [
    "with open('/p/lustre2/shiduan/ForceSMIP/EOF/modes_all/1979_2022/GPCP/pr-metrics-stand-True-month-True-unforced-False-joint-False-REGEN-mask', 'rb') as pfile:\n",
    "    metrics_gpcp_month_stand = pickle.load(pfile)\n",
    "pc1_month_stand = metrics_gpcp_month_stand['pc']\n",
    "with open('/p/lustre2/shiduan/ForceSMIP/EOF/modes_all/1979_2022/GPCP/pr-metrics-stand-True-month-False-unforced-False-joint-False-REGEN-mask', 'rb') as pfile:\n",
    "    metrics_gpcp_stand = pickle.load(pfile)\n",
    "pc1_stand = metrics_gpcp_stand['pc']\n",
    "with open('/p/lustre2/shiduan/ForceSMIP/EOF/modes_all/1979_2022/GPCP/pr-metrics-stand-True-month-False-unforced-True-joint-False-REGEN-mask', 'rb') as pfile:\n",
    "    metrics_gpcp_unforced = pickle.load(pfile)\n",
    "pc1_unforced = metrics_gpcp_unforced['pc']\n",
    "with open('/p/lustre2/shiduan/ForceSMIP/EOF/modes_all/1979_2022/GPCP/pr-metrics-stand-True-month-True-unforced-True-joint-False-REGEN-mask', 'rb') as pfile:\n",
    "    metrics_gpcp_month_unforced = pickle.load(pfile)\n",
    "pc1_month_unforced = metrics_gpcp_month_unforced['pc']"
   ]
  },
  {
   "cell_type": "code",
   "execution_count": null,
   "metadata": {},
   "outputs": [],
   "source": [
    "pc1.time.data[0]"
   ]
  },
  {
   "cell_type": "code",
   "execution_count": null,
   "metadata": {},
   "outputs": [],
   "source": [
    "pc1_month.time.data[0]\n",
    "pc1_time = pc1_month.indexes['time'].to_datetimeindex()"
   ]
  },
  {
   "cell_type": "code",
   "execution_count": null,
   "metadata": {},
   "outputs": [],
   "source": [
    "def plot_eofs(solver_list_month, solver_list, column, fig, gs, norm, cmap='BrBG', left=True, skip=False):\n",
    "    eof_all = None\n",
    "    for i in range(6):\n",
    "        eof = solver_list_month[i].eofs().isel(mode=0).transpose('lat', 'lon')\n",
    "        variance = str(solver_list_month[i].varianceFraction().data[0].round(2))\n",
    "        ax = fig.add_subplot(gs[i, column], projection=cartopy.crs.Robinson(central_longitude=180))\n",
    "        ax.contourf(eof.lon, eof.lat, eof, transform=cartopy.crs.PlateCarree(), cmap=cmap, norm=norm)\n",
    "        ax.set_title(months[i]+' '+variance, \n",
    "                    fontsize=12)\n",
    "        ax.add_feature(cartopy.feature.COASTLINE, alpha=.5)\n",
    "        if eof_all is None:\n",
    "            eof_all = eof.data\n",
    "        else:\n",
    "            eof_all+=eof.data\n",
    "    for i in range(6, 12):\n",
    "        eof = solver_list_month[i].eofs().isel(mode=0).transpose('lat', 'lon')\n",
    "        variance = str(solver_list_month[i].varianceFraction().data[0].round(2))\n",
    "        if skip:\n",
    "            ax = fig.add_subplot(gs[11-i, column+2], projection=cartopy.crs.Robinson(central_longitude=180))\n",
    "        else:\n",
    "            ax = fig.add_subplot(gs[11-i, column+1], projection=cartopy.crs.Robinson(central_longitude=180))\n",
    "        ax.contourf(eof.lon, eof.lat, eof, transform=cartopy.crs.PlateCarree(), cmap=cmap, norm=norm)\n",
    "        ax.set_title(months[i]+' '+variance, \n",
    "                    fontsize=12)\n",
    "        ax.add_feature(cartopy.feature.COASTLINE, alpha=.5)\n",
    "        if eof_all is None:\n",
    "            eof_all = eof.data\n",
    "        else:\n",
    "            eof_all+=eof.data\n",
    "    '''if left:\n",
    "        ax = fig.add_subplot(gs[6, column], projection=cartopy.crs.Robinson(central_longitude=180))\n",
    "    else:\n",
    "        ax = fig.add_subplot(gs[6, column+1], projection=cartopy.crs.Robinson(central_longitude=180))\n",
    "    ax.add_feature(cartopy.feature.COASTLINE, alpha=.5)\n",
    "    ax.contourf(eof.lon, eof.lat, eof_all/12, transform=cartopy.crs.PlateCarree(), cmap=cmap, norm=norm)\n",
    "    ax.set_title('Mean EOF')\n",
    "    if left:\n",
    "        ax = fig.add_subplot(gs[7, column], projection=cartopy.crs.Robinson(central_longitude=180))\n",
    "    else:\n",
    "        ax = fig.add_subplot(gs[7, column+1], projection=cartopy.crs.Robinson(central_longitude=180))\n",
    "    \n",
    "    ax.contourf(eof.lon, eof.lat, eof, transform=cartopy.crs.PlateCarree(), cmap=cmap, norm=norm)\n",
    "    ax.add_feature(cartopy.feature.COASTLINE, alpha=.5)\n",
    "    ax.set_title('AllM '+variance)'''\n",
    "    eof = solver_list[0].eofs().isel(mode=0).transpose('lat', 'lon')\n",
    "    variance = str(solver_list[0].varianceFraction().data[0].round(2))\n",
    "    return eof_all/12, eof, variance"
   ]
  },
  {
   "cell_type": "code",
   "execution_count": null,
   "metadata": {},
   "outputs": [],
   "source": [
    "sns_colors = sns.color_palette('muted', 3)\n",
    "sns_colors"
   ]
  },
  {
   "cell_type": "code",
   "execution_count": null,
   "metadata": {},
   "outputs": [],
   "source": [
    "pc1.plot()\n",
    "pc1_stand.plot()"
   ]
  },
  {
   "cell_type": "code",
   "execution_count": null,
   "metadata": {},
   "outputs": [],
   "source": [
    "def plot_eofs_multicols(solver_list_month, solver_list, column, fig, gs, norm, cmap='BrBG', left=True, skip=False):\n",
    "    eof_all = None\n",
    "    for i in range(6):\n",
    "        eof = solver_list_month[i].eofs().isel(mode=0).transpose('lat', 'lon')\n",
    "        variance = str(solver_list_month[i].varianceFraction().data[0].round(2))\n",
    "        ax = fig.add_subplot(gs[i, column:column+3], projection=cartopy.crs.Robinson(central_longitude=180))\n",
    "        ax.contourf(eof.lon, eof.lat, eof, transform=cartopy.crs.PlateCarree(), cmap=cmap, norm=norm)\n",
    "        ax.set_title(months[i]+' '+variance, \n",
    "                    fontsize=12)\n",
    "        ax.add_feature(cartopy.feature.COASTLINE, alpha=.5)\n",
    "        if eof_all is None:\n",
    "            eof_all = eof.data\n",
    "        else:\n",
    "            eof_all+=eof.data\n",
    "    for i in range(6, 12):\n",
    "        eof = solver_list_month[i].eofs().isel(mode=0).transpose('lat', 'lon')\n",
    "        variance = str(solver_list_month[i].varianceFraction().data[0].round(2))\n",
    "        if skip:\n",
    "            ax = fig.add_subplot(gs[11-i, column+3:column+6], projection=cartopy.crs.Robinson(central_longitude=180))\n",
    "        else:\n",
    "            ax = fig.add_subplot(gs[11-i, column+1], projection=cartopy.crs.Robinson(central_longitude=180))\n",
    "        ax.contourf(eof.lon, eof.lat, eof, transform=cartopy.crs.PlateCarree(), cmap=cmap, norm=norm)\n",
    "        ax.set_title(months[i]+' '+variance, \n",
    "                    fontsize=12)\n",
    "        ax.add_feature(cartopy.feature.COASTLINE, alpha=.5)\n",
    "        if eof_all is None:\n",
    "            eof_all = eof.data\n",
    "        else:\n",
    "            eof_all+=eof.data\n",
    "    '''if left:\n",
    "        ax = fig.add_subplot(gs[6, column], projection=cartopy.crs.Robinson(central_longitude=180))\n",
    "    else:\n",
    "        ax = fig.add_subplot(gs[6, column+1], projection=cartopy.crs.Robinson(central_longitude=180))\n",
    "    ax.add_feature(cartopy.feature.COASTLINE, alpha=.5)\n",
    "    ax.contourf(eof.lon, eof.lat, eof_all/12, transform=cartopy.crs.PlateCarree(), cmap=cmap, norm=norm)\n",
    "    ax.set_title('Mean EOF')\n",
    "    if left:\n",
    "        ax = fig.add_subplot(gs[7, column], projection=cartopy.crs.Robinson(central_longitude=180))\n",
    "    else:\n",
    "        ax = fig.add_subplot(gs[7, column+1], projection=cartopy.crs.Robinson(central_longitude=180))\n",
    "    \n",
    "    ax.contourf(eof.lon, eof.lat, eof, transform=cartopy.crs.PlateCarree(), cmap=cmap, norm=norm)\n",
    "    ax.add_feature(cartopy.feature.COASTLINE, alpha=.5)\n",
    "    ax.set_title('AllM '+variance)'''\n",
    "    eof = solver_list[0].eofs().isel(mode=0).transpose('lat', 'lon')\n",
    "    variance = str(solver_list[0].varianceFraction().data[0].round(2))\n",
    "    return eof_all/12, eof, variance"
   ]
  },
  {
   "cell_type": "code",
   "execution_count": null,
   "metadata": {},
   "outputs": [],
   "source": [
    "from datetime import datetime\n",
    "\n",
    "len(pc1_time)\n",
    "label = [datetime.strftime(pc1_time[0], '%Y-%m'), datetime.strftime(pc1_time[100], '%Y-%m'),\n",
    "         datetime.strftime(pc1_time[200], '%Y-%m'), datetime.strftime(pc1_time[300], '%Y-%m'),\n",
    "         datetime.strftime(pc1_time[400], '%Y-%m')]"
   ]
  },
  {
   "cell_type": "code",
   "execution_count": null,
   "metadata": {},
   "outputs": [],
   "source": [
    "vmin = -0.1\n",
    "vmax = 0.1\n",
    "norm = colors.TwoSlopeNorm(vmin=vmin, vcenter=0, vmax=vmax)\n",
    "fig = plt.figure(figsize=(10, 12))\n",
    "gs = GridSpec(8, 13, figure=fig, width_ratios=[1, 1, 1,  1, 1, 1,  0.25, 1, 1, 1, 1, 1,1], wspace=0)\n",
    "ind = 0\n",
    "mean_eof1, eof_all1, variance1 = plot_eofs_multicols(column=0, solver_list_month=solver_list_month, \n",
    "                                                     solver_list=solver_list, norm=norm, \n",
    "                                                     gs=gs, fig=fig, left=True, skip=True)\n",
    "mean_eof2, eof_all2, variance2 = plot_eofs_multicols(column=7, solver_list_month=solver_list_month_stand, \n",
    "                                                     solver_list=solver_list_stand, norm=norm, \n",
    "                                                     gs=gs, fig=fig, left=False, skip=True)\n",
    "'''mean_eof3, eof_all3, variance3 = plot_eofs(column=6, solver_list_month=solver_list_month_unforced, solver_list=solver_list_unforced, \n",
    "                                           norm=norm, gs=gs, fig=fig)'''\n",
    "\n",
    "plt.tight_layout()\n",
    "plt.subplots_adjust(wspace=0, hspace=0.2)\n",
    "ax = fig.add_subplot(gs[6:8, 4:9])\n",
    "ax.plot(pc1_time, pc1, label='AllM Anomaly', color=sns_colors[0])\n",
    "ax.plot(pc1_time, pc1_month, label='MbyM Anomaly', color=sns_colors[0], linestyle='-.')\n",
    "ax.plot(pc1_time, pc1_stand, label='AllM StdAnomaly', color=sns_colors[1])\n",
    "ax.plot(pc1_time, pc1_month_stand, label='MbyM StdAnomaly', color=sns_colors[1], linestyle='-.')\n",
    "ax.plot(pc1_time, pc1_unforced, label='AllM UnforcedAnomaly', color=sns_colors[2])\n",
    "ax.plot(pc1_time, pc1_month_unforced, label='MbyM UnforcedAnomaly', color=sns_colors[2], linestyle='-.')\n",
    "ax.set_xticks([pc1_time[0], pc1_time[100], pc1_time[200], pc1_time[300], pc1_time[400]])\n",
    "ax.set_xticklabels(label)\n",
    "plt.legend(ncol=3, bbox_to_anchor=(1.5, -.1))\n",
    "fig.text(x=0.21, y=1., s='Anomaly', fontsize=14, weight='bold')\n",
    "fig.text(x=0.66, y=1., s='StdAnomaly', fontsize=14, weight='bold')\n",
    "\n",
    "ax = fig.add_subplot(gs[6, 0:3], projection=cartopy.crs.Robinson(central_longitude=180))\n",
    "ax.add_feature(cartopy.feature.COASTLINE, alpha=.5)\n",
    "ax.contourf(eof_all1.lon, eof_all1.lat, mean_eof1, transform=cartopy.crs.PlateCarree(), cmap='BrBG', norm=norm)\n",
    "ax.set_title('Mean EOF')\n",
    "ax = fig.add_subplot(gs[6, 10:13], projection=cartopy.crs.Robinson(central_longitude=180))\n",
    "ax.add_feature(cartopy.feature.COASTLINE, alpha=.5)\n",
    "ax.contourf(eof_all1.lon, eof_all1.lat, mean_eof2, transform=cartopy.crs.PlateCarree(), cmap='BrBG', norm=norm)\n",
    "ax.set_title('Mean EOF')\n",
    "ax = fig.add_subplot(gs[7, 0:3], projection=cartopy.crs.Robinson(central_longitude=180))\n",
    "ax.add_feature(cartopy.feature.COASTLINE, alpha=.5)\n",
    "ax.contourf(eof_all1.lon, eof_all1.lat, -eof_all1, transform=cartopy.crs.PlateCarree(), cmap='BrBG', norm=norm)\n",
    "ax.set_title('AllM '+variance1)\n",
    "ax = fig.add_subplot(gs[7, 10:13], projection=cartopy.crs.Robinson(central_longitude=180))\n",
    "ax.add_feature(cartopy.feature.COASTLINE, alpha=.5)\n",
    "ax.contourf(eof_all1.lon, eof_all1.lat, eof_all2, transform=cartopy.crs.PlateCarree(), cmap='BrBG', norm=norm)\n",
    "ax.set_title('AllM '+variance2)\n",
    "# fig.text(x=0.78, y=1., s='UnforcedAnomaly', fontsize=14, weight='bold')\n",
    "cbar_ax = fig.add_axes([-0.01, 0.05, 0.01, 0.15])\n",
    "cb = fig.colorbar(mappable=mpl.cm.ScalarMappable(norm=norm, cmap='BrBG'), cax=cbar_ax, extend='both')\n",
    "cbar_ax.yaxis.set_ticks_position('left')\n",
    "plt.savefig('pr-land-EOF-pc.png', dpi=180, bbox_inches='tight')"
   ]
  },
  {
   "cell_type": "code",
   "execution_count": null,
   "metadata": {},
   "outputs": [],
   "source": []
  },
  {
   "cell_type": "code",
   "execution_count": null,
   "metadata": {},
   "outputs": [],
   "source": []
  },
  {
   "cell_type": "markdown",
   "metadata": {},
   "source": [
    "# Monmaxpr"
   ]
  },
  {
   "cell_type": "code",
   "execution_count": null,
   "metadata": {},
   "outputs": [],
   "source": [
    "variable = 'monmaxpr'\n",
    "eof_start = 1979\n",
    "with open('/p/lustre2/shiduan/ForceSMIP/EOF/modes_all/'+str(eof_start)+'_2022/'+variable+'-solver-stand-False-month-True-unforced-False-joint-False-REGEN-mask', 'rb') as pfile:\n",
    "    solver_list_month = pickle.load(pfile)\n",
    "with open('/p/lustre2/shiduan/ForceSMIP/EOF/modes_all/'+str(eof_start)+'_2022/'+variable+'-solver-stand-False-month-False-unforced-False-joint-False-REGEN-mask', 'rb') as pfile:\n",
    "    solver_list = pickle.load(pfile)\n",
    "\n",
    "with open('/p/lustre2/shiduan/ForceSMIP/EOF/modes_all/'+str(eof_start)+'_2022/'+variable+'-solver-stand-True-month-True-unforced-False-joint-False-REGEN-mask', 'rb') as pfile:\n",
    "    solver_list_month_stand = pickle.load(pfile)\n",
    "with open('/p/lustre2/shiduan/ForceSMIP/EOF/modes_all/'+str(eof_start)+'_2022/'+variable+'-solver-stand-True-month-False-unforced-False-joint-False-REGEN-mask', 'rb') as pfile:\n",
    "    solver_list_stand = pickle.load(pfile)\n",
    "with open('/p/lustre2/shiduan/ForceSMIP/EOF/modes_all/'+str(eof_start)+'_2022/'+variable+'-solver-stand-True-month-True-unforced-True-joint-False-REGEN-mask', 'rb') as pfile:\n",
    "    solver_list_month_unforced = pickle.load(pfile)\n",
    "with open('/p/lustre2/shiduan/ForceSMIP/EOF/modes_all/'+str(eof_start)+'_2022/'+variable+'-solver-stand-True-month-False-unforced-True-joint-False-REGEN-mask', 'rb') as pfile:\n",
    "    solver_list_unforced = pickle.load(pfile)"
   ]
  },
  {
   "cell_type": "code",
   "execution_count": null,
   "metadata": {},
   "outputs": [],
   "source": [
    "with open('/p/lustre2/shiduan/ForceSMIP/EOF/modes_all/1979_2022/MSWEP/monmaxpr-metrics-stand-False-month-False-unforced-False-joint-False-REGEN-mask', 'rb') as pfile:\n",
    "    metric = pickle.load(pfile)\n",
    "pc1 = metric['pc']\n",
    "with open('/p/lustre2/shiduan/ForceSMIP/EOF/modes_all/1979_2022/MSWEP/monmaxpr-metrics-stand-False-month-True-unforced-False-joint-False-REGEN-mask', 'rb') as pfile:\n",
    "    metric = pickle.load(pfile)\n",
    "pc1_month = metric['pc']\n",
    "with open('/p/lustre2/shiduan/ForceSMIP/EOF/modes_all/1979_2022/MSWEP/monmaxpr-metrics-stand-True-month-True-unforced-False-joint-False-REGEN-mask', 'rb') as pfile:\n",
    "    metric = pickle.load(pfile)\n",
    "pc1_month_stand = metric['pc']\n",
    "with open('/p/lustre2/shiduan/ForceSMIP/EOF/modes_all/1979_2022/MSWEP/monmaxpr-metrics-stand-True-month-False-unforced-False-joint-False-REGEN-mask', 'rb') as pfile:\n",
    "    metric = pickle.load(pfile)\n",
    "pc1_stand = metric['pc']\n",
    "with open('/p/lustre2/shiduan/ForceSMIP/EOF/modes_all/1979_2022/MSWEP/monmaxpr-metrics-stand-True-month-False-unforced-True-joint-False-REGEN-mask', 'rb') as pfile:\n",
    "    metric = pickle.load(pfile)\n",
    "pc1_unforced = metric['pc']\n",
    "with open('/p/lustre2/shiduan/ForceSMIP/EOF/modes_all/1979_2022/MSWEP/monmaxpr-metrics-stand-True-month-True-unforced-True-joint-False-REGEN-mask', 'rb') as pfile:\n",
    "    metric = pickle.load(pfile)\n",
    "pc1_month_unforced = metric['pc']"
   ]
  },
  {
   "cell_type": "code",
   "execution_count": null,
   "metadata": {},
   "outputs": [],
   "source": [
    "pc1_month.time.data[0]\n",
    "pc1_time = pc1_month.indexes['time'].to_datetimeindex()\n",
    "sns_colors = sns.color_palette('muted', 3)\n",
    "sns_colors"
   ]
  },
  {
   "cell_type": "code",
   "execution_count": null,
   "metadata": {},
   "outputs": [],
   "source": [
    "solver_list_unforced[0].eofs().isel(mode=0).plot()"
   ]
  },
  {
   "cell_type": "code",
   "execution_count": null,
   "metadata": {},
   "outputs": [],
   "source": []
  },
  {
   "cell_type": "code",
   "execution_count": null,
   "metadata": {},
   "outputs": [],
   "source": [
    "from datetime import datetime\n",
    "\n",
    "len(pc1_time)\n",
    "label = [datetime.strftime(pc1_time[0], '%Y-%m'), datetime.strftime(pc1_time[100], '%Y-%m'),\n",
    "         datetime.strftime(pc1_time[200], '%Y-%m'), datetime.strftime(pc1_time[300], '%Y-%m'),\n",
    "         datetime.strftime(pc1_time[400], '%Y-%m')]"
   ]
  },
  {
   "cell_type": "code",
   "execution_count": null,
   "metadata": {},
   "outputs": [],
   "source": [
    "vmin = -0.09\n",
    "vmax = 0.09\n",
    "norm = colors.TwoSlopeNorm(vmin=vmin, vcenter=0, vmax=vmax)\n",
    "cmap = 'BrBG'\n",
    "fig = plt.figure(figsize=(10, 12))\n",
    "gs = GridSpec(8, 13, figure=fig, width_ratios=[1, 1, 1,  1, 1, 1,  0.25, 1, 1, 1, 1, 1,1], wspace=0)\n",
    "ind = 0\n",
    "mean_eof1, eof_all1, variance1 = plot_eofs_multicols(column=0, solver_list_month=solver_list_month, \n",
    "                                                     solver_list=solver_list, norm=norm, cmap=cmap,\n",
    "                                                     gs=gs, fig=fig, left=True, skip=True)\n",
    "mean_eof2, eof_all2, variance2 = plot_eofs_multicols(column=7, solver_list_month=solver_list_month_stand, \n",
    "                                                     solver_list=solver_list_stand, norm=norm, cmap=cmap,\n",
    "                                                     gs=gs, fig=fig, left=False, skip=True)\n",
    "\n",
    "plt.tight_layout()\n",
    "plt.subplots_adjust(wspace=0, hspace=0.2)\n",
    "ax = fig.add_subplot(gs[6:8, 4:9])\n",
    "ax.plot(pc1_time, pc1, label='AllM Anomaly', color=sns_colors[0])\n",
    "ax.plot(pc1_time, pc1_month, label='MbyM Anomaly', color=sns_colors[0], linestyle='-.')\n",
    "ax.plot(pc1_time, pc1_stand, label='AllM StdAnomaly', color=sns_colors[1])\n",
    "ax.plot(pc1_time, pc1_month_stand, label='MbyM StdAnomaly', color=sns_colors[1], linestyle='-.')\n",
    "ax.plot(pc1_time, pc1_unforced, label='AllM UnforcedAnomaly', color=sns_colors[2])\n",
    "ax.plot(pc1_time, pc1_month_unforced, label='MbyM UnforcedAnomaly', color=sns_colors[2], linestyle='-.')\n",
    "ax.set_xticks([pc1_time[0], pc1_time[100], pc1_time[200], pc1_time[300], pc1_time[400]])\n",
    "ax.set_xticklabels(label)\n",
    "plt.legend(ncol=3, bbox_to_anchor=(1.5, -.1))\n",
    "fig.text(x=0.21, y=1., s='Anomaly', fontsize=14, weight='bold')\n",
    "fig.text(x=0.66, y=1., s='StdAnomaly', fontsize=14, weight='bold')\n",
    "\n",
    "ax = fig.add_subplot(gs[6, 0:3], projection=cartopy.crs.Robinson(central_longitude=180))\n",
    "ax.add_feature(cartopy.feature.COASTLINE, alpha=.5)\n",
    "ax.contourf(eof_all1.lon, eof_all1.lat, mean_eof1, transform=cartopy.crs.PlateCarree(), cmap=cmap, norm=norm)\n",
    "ax.set_title('Mean EOF')\n",
    "ax = fig.add_subplot(gs[6, 10:13], projection=cartopy.crs.Robinson(central_longitude=180))\n",
    "ax.add_feature(cartopy.feature.COASTLINE, alpha=.5)\n",
    "ax.contourf(eof_all1.lon, eof_all1.lat, mean_eof2, transform=cartopy.crs.PlateCarree(), cmap=cmap, norm=norm)\n",
    "ax.set_title('Mean EOF')\n",
    "ax = fig.add_subplot(gs[7, 0:3], projection=cartopy.crs.Robinson(central_longitude=180))\n",
    "ax.add_feature(cartopy.feature.COASTLINE, alpha=.5)\n",
    "ax.contourf(eof_all1.lon, eof_all1.lat, eof_all1, transform=cartopy.crs.PlateCarree(), cmap=cmap, norm=norm)\n",
    "ax.set_title('AllM '+variance1)\n",
    "ax = fig.add_subplot(gs[7, 10:13], projection=cartopy.crs.Robinson(central_longitude=180))\n",
    "ax.add_feature(cartopy.feature.COASTLINE, alpha=.5)\n",
    "ax.contourf(eof_all1.lon, eof_all1.lat, eof_all2, transform=cartopy.crs.PlateCarree(), cmap=cmap, norm=norm)\n",
    "ax.set_title('AllM '+variance2)\n",
    "cbar_ax = fig.add_axes([-0.01, 0.05, 0.01, 0.15])\n",
    "cb = fig.colorbar(mappable=mpl.cm.ScalarMappable(norm=norm, cmap=cmap), cax=cbar_ax, extend='both')\n",
    "cbar_ax.yaxis.set_ticks_position('left')\n",
    "plt.savefig('monmaxpr-land-EOF-pc.png', dpi=180, bbox_inches='tight')"
   ]
  },
  {
   "cell_type": "code",
   "execution_count": null,
   "metadata": {},
   "outputs": [],
   "source": []
  },
  {
   "cell_type": "code",
   "execution_count": null,
   "metadata": {},
   "outputs": [],
   "source": [
    "vmin = -0.055\n",
    "vmax = 0.055\n",
    "norm = colors.TwoSlopeNorm(vmin=vmin, vcenter=0, vmax=vmax)\n",
    "fig = plt.figure(figsize=(14, 14))\n",
    "gs = GridSpec(9, 8, figure=fig, width_ratios=[1, 1, 0.2, 1, 1, 0.2, 1, 1])\n",
    "ind = 0\n",
    "plot_eofs(column=0, solver_list_month=solver_list_month, solver_list=solver_list, norm=norm, gs=gs, fig=fig, cmap='BrBG')\n",
    "plot_eofs(column=3, solver_list_month=solver_list_month_stand, solver_list=solver_list_stand, norm=norm, gs=gs, fig=fig, cmap='BrBG')\n",
    "plot_eofs(column=6, solver_list_month=solver_list_month_unforced, solver_list=solver_list_unforced, norm=norm, gs=gs, fig=fig, cmap='BrBG')\n",
    "\n",
    "plt.tight_layout()\n",
    "plt.subplots_adjust(wspace=0, hspace=0.2)\n",
    "ax = fig.add_subplot(gs[8, 2:6])\n",
    "ax.plot(pc1_time, pc1, label='AllM Anomaly', color=sns_colors[0])\n",
    "ax.plot(pc1_time, pc1_month, label='MbyM Anomaly', color=sns_colors[0], linestyle='-.')\n",
    "ax.plot(pc1_time, pc1_stand, label='AllM StdAnomaly', color=sns_colors[1])\n",
    "ax.plot(pc1_time, pc1_month_stand, label='MbyM StdAnomaly', color=sns_colors[1], linestyle='-.')\n",
    "ax.plot(pc1_time, pc1_unforced, label='AllM UnforcedAnomaly', color=sns_colors[2])\n",
    "ax.plot(pc1_time, pc1_month_unforced, label='MbyM UnforcedAnomaly', color=sns_colors[2], linestyle='-.')\n",
    "plt.legend(ncol=3, bbox_to_anchor=(1.05, -.2))\n",
    "fig.text(x=0.13, y=1., s='Anomaly', fontsize=14, weight='bold')\n",
    "fig.text(x=0.46, y=1., s='StdAnomaly', fontsize=14, weight='bold')\n",
    "fig.text(x=0.78, y=1., s='UnforcedAnomaly', fontsize=14, weight='bold')\n",
    "cbar_ax = fig.add_axes([0.04, 0.15, 0.01, 0.15])\n",
    "cb = fig.colorbar(mappable=mpl.cm.ScalarMappable(norm=norm, cmap='BrBG'), cax=cbar_ax, extend='both')\n",
    "cbar_ax.yaxis.set_ticks_position('left')\n",
    "# plt.savefig('monmaxpr-EOF-pc.png', dpi=180, bbox_inches='tight')"
   ]
  },
  {
   "cell_type": "code",
   "execution_count": null,
   "metadata": {},
   "outputs": [],
   "source": []
  }
 ],
 "metadata": {
  "language_info": {
   "name": "python"
  }
 },
 "nbformat": 4,
 "nbformat_minor": 2
}
